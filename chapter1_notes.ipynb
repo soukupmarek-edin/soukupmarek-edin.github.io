{
  "nbformat": 4,
  "nbformat_minor": 0,
  "metadata": {
    "colab": {
      "name": "chapter1_notes.ipynb",
      "provenance": [],
      "authorship_tag": "ABX9TyOwfUYjdCt3lROmKrKlaMAz",
      "include_colab_link": true
    },
    "kernelspec": {
      "name": "python3",
      "display_name": "Python 3"
    }
  },
  "cells": [
    {
      "cell_type": "markdown",
      "metadata": {
        "id": "view-in-github",
        "colab_type": "text"
      },
      "source": [
        "<a href=\"https://colab.research.google.com/github/soukupmarek-edin/soukupmarek-edin.github.io/blob/main/chapter1_notes.ipynb\" target=\"_parent\"><img src=\"https://colab.research.google.com/assets/colab-badge.svg\" alt=\"Open In Colab\"/></a>"
      ]
    },
    {
      "cell_type": "markdown",
      "metadata": {
        "id": "xcDGA5D2sEeu"
      },
      "source": [
        "We begin with importing the pandas module. The conventional shortcut for this module is `pd`. I strongly recommend to use this shortcut."
      ]
    },
    {
      "cell_type": "code",
      "metadata": {
        "id": "Yai20qM3r4NE"
      },
      "source": [
        "import pandas as pd"
      ],
      "execution_count": null,
      "outputs": []
    },
    {
      "cell_type": "markdown",
      "metadata": {
        "id": "ocxkwgA0sldf"
      },
      "source": [
        "Now we want would like to create our first table. Pandas allows us to read data in multiple formats. We will use the `.read_csv()` function to load a csv file stored online."
      ]
    },
    {
      "cell_type": "code",
      "metadata": {
        "colab": {
          "base_uri": "https://localhost:8080/"
        },
        "id": "yNWo9VFeskGd",
        "outputId": "4bc93d8b-553c-4da9-e14b-20c8d74e90f6"
      },
      "source": [
        "source = \"https://raw.githubusercontent.com/soukupmarek-edin/soukupmarek-edin.github.io/main/data_analysis/data/basic.csv\"\r\n",
        "df = pd.read_csv(source)\r\n",
        "type(df)"
      ],
      "execution_count": null,
      "outputs": [
        {
          "output_type": "execute_result",
          "data": {
            "text/plain": [
              "pandas.core.frame.DataFrame"
            ]
          },
          "metadata": {
            "tags": []
          },
          "execution_count": 6
        }
      ]
    },
    {
      "cell_type": "code",
      "metadata": {
        "id": "B-YW0Iw8vCDu"
      },
      "source": [
        ""
      ],
      "execution_count": null,
      "outputs": []
    }
  ]
}